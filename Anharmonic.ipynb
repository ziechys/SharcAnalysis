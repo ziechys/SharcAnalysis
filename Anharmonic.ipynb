{
 "cells": [
  {
   "cell_type": "code",
   "execution_count": 1,
   "metadata": {},
   "outputs": [],
   "source": [
    "import os\n",
    "import sys\n",
    "import numpy as np\n",
    "import matplotlib\n",
    "import matplotlib.pyplot as plt\n",
    "import math"
   ]
  },
  {
   "cell_type": "code",
   "execution_count": 21,
   "metadata": {},
   "outputs": [],
   "source": [
    "#number of atoms\n",
    "natoms = 9\n",
    "nfreqs = 252\n",
    "allfreqs = 252#int((nfreqs**2+nfreqs*3)/2)"
   ]
  },
  {
   "cell_type": "code",
   "execution_count": 22,
   "metadata": {},
   "outputs": [
    {
     "data": {
      "text/plain": [
       "32130"
      ]
     },
     "execution_count": 22,
     "metadata": {},
     "output_type": "execute_result"
    }
   ],
   "source": [
    "int((nfreqs**2+nfreqs*3)/2)"
   ]
  },
  {
   "cell_type": "code",
   "execution_count": 23,
   "metadata": {},
   "outputs": [],
   "source": [
    "#Read structure in A and atoms from Gaussian input file\n",
    "with open('freq_anharm.gjf', 'r') as f:\n",
    "    lines = f.readlines()\n",
    "struc_A_IM = lines[-natoms:]\n",
    "atoms = np.zeros(natoms,str)\n",
    "struc_A = np.zeros((natoms,3))\n",
    "for nr,i in enumerate(struc_A_IM):\n",
    "    atoms[nr] = i.split()[0]\n",
    "    struc_A[nr] = i.split()[1:]"
   ]
  },
  {
   "cell_type": "code",
   "execution_count": 24,
   "metadata": {},
   "outputs": [],
   "source": [
    "#Read structure in A from Gaussian input file\n",
    "with open('freq_anharm.fch', 'r') as f:\n",
    "    for line in f:\n",
    "        if 'Current cartesian coordinates' in line:\n",
    "            struc_au_IM = f.readlines()[:math.ceil(natoms*3 / 5)]\n",
    "            break\n",
    "\n",
    "struc_au = []\n",
    "for i in struc_au_IM:\n",
    "    struc_au = struc_au + i.split()\n",
    "struc_au = np.array(struc_au,dtype=float).reshape(natoms,3)"
   ]
  },
  {
   "cell_type": "code",
   "execution_count": 25,
   "metadata": {},
   "outputs": [],
   "source": [
    "#Read vibrational energies\n",
    "with open('freq_anharm.fch', 'r') as f:\n",
    "    for line in f:\n",
    "        if 'Anharmonic Vib-E2' in line:\n",
    "            data_IM = f.readlines()[:math.ceil( allfreqs*4 / 5)]\n",
    "            break\n",
    "\n",
    "data = []\n",
    "energies = []\n",
    "IR = []\n",
    "for i in data_IM:\n",
    "    data = data + i.split()\n",
    "energies = np.array(data[:nfreqs],dtype=float)\n",
    "IR = np.array(data[allfreqs*3:(allfreqs*3+nfreqs)],dtype=float)"
   ]
  },
  {
   "cell_type": "code",
   "execution_count": 26,
   "metadata": {},
   "outputs": [],
   "source": [
    "#Read anharmonic modes\n",
    "with open('freq_anharm.fch', 'r') as f:\n",
    "    for line in f:\n",
    "        if 'Anharmonic Vib-Modes' in line:\n",
    "            data_IM = f.readlines()[:math.ceil( nfreqs*natoms*3 / 5)]\n",
    "            break\n",
    "data = []\n",
    "for i in data_IM:\n",
    "    data = data + i.split()\n",
    "data = data[:nfreqs*natoms*3]\n",
    "modes = np.array(data,dtype=float).reshape(nfreqs,natoms,3)"
   ]
  },
  {
   "cell_type": "code",
   "execution_count": 27,
   "metadata": {},
   "outputs": [],
   "source": [
    "sortlist = np.argsort(energies)\n",
    "#sortlist = np.arange(nfreqs)"
   ]
  },
  {
   "cell_type": "code",
   "execution_count": 37,
   "metadata": {},
   "outputs": [],
   "source": [
    "with open ('freq_anharm.molden', 'w') as f:\n",
    "    f.write('[Molden Format]\\n')\n",
    "    f.write('[GEOMETRIES] XYZ\\n')\n",
    "    f.write('%5i' %  natoms+'\\n')\n",
    "    f.write('\\n')\n",
    "    for i in range(natoms):\n",
    "        f.write(' ' + atoms[i] + '    ' + \"%9.6f\" % struc_A[i,0] + '    ' + \"%9.6f\" % struc_A[i,1] +'    ' +  \"%9.6f\" % struc_A[i,2] + '\\n' )\n",
    "    f.write('[FREQ]\\n')\n",
    "    for i in sortlist:#range(nfreqs):\n",
    "        f.write('%10.4f' % energies[i] + '\\n')\n",
    "    f.write('[INT]\\n')\n",
    "    for i in sortlist:#range(nfreqs):\n",
    "        f.write('%10.4f' % IR[i] + '     0.0000\\n')\n",
    "    f.write('[FR-COORD]\\n')\n",
    "    for i in range(natoms):\n",
    "        f.write(' ' + atoms[i] + '    ' + \"%9.6f\" % struc_au[i,0] + '    ' + \"%9.6f\" % struc_au[i,1] +'    ' +  \"%9.6f\" % struc_au[i,2] + '\\n' )\n",
    "    f.write('[FR-NORM-COORD]\\n')\n",
    "    for nr,i in enumerate(sortlist):#range(nfreqs):\n",
    "        f.write('vibration ' + '%5i' % (nr+1) + '\\n')\n",
    "        for j in range(natoms):\n",
    "            f.write(\"%12.6f\" % modes[i,j,0] + ' ' + \"%12.6f\" % modes[i,j,1] + ' ' +  \"%12.6f\" % modes[i,j,2] + '\\n' )"
   ]
  },
  {
   "cell_type": "code",
   "execution_count": 29,
   "metadata": {},
   "outputs": [
    {
     "data": {
      "text/plain": [
       "(252, 9, 3)"
      ]
     },
     "execution_count": 29,
     "metadata": {},
     "output_type": "execute_result"
    }
   ],
   "source": [
    "np.shape(modes)"
   ]
  },
  {
   "cell_type": "code",
   "execution_count": 30,
   "metadata": {},
   "outputs": [],
   "source": [
    "mass_c = 12.000000 \n",
    "mass_o = 15.994915 \n",
    "mass_h = 1.007825 \n",
    "molecule = [mass_c] * 4 + [mass_o] + [mass_h] * 4"
   ]
  },
  {
   "cell_type": "code",
   "execution_count": 31,
   "metadata": {},
   "outputs": [
    {
     "data": {
      "text/plain": [
       "[12.0, 12.0, 12.0, 12.0, 15.994915, 1.007825, 1.007825, 1.007825, 1.007825]"
      ]
     },
     "execution_count": 31,
     "metadata": {},
     "output_type": "execute_result"
    }
   ],
   "source": [
    "molecule"
   ]
  },
  {
   "cell_type": "code",
   "execution_count": 32,
   "metadata": {},
   "outputs": [
    {
     "name": "stdout",
     "output_type": "stream",
     "text": [
      "[1.18269715 2.75831722 1.68502209 2.16470956 1.30126338 1.64833228\n",
      " 1.21567896 1.2438388  1.10040643 1.14737284 1.19677146 1.06430531\n",
      " 1.22686318 1.0421685  1.2005313  1.22819027 1.07515692 1.16969837\n",
      " 1.10512271 1.14165135 1.07110058 2.00639987 1.53787829 2.00122616\n",
      " 1.41557138 1.41585816 2.00992778 1.41563121 1.41882186 1.42003335\n",
      " 2.02947861 1.41528259 1.42204661 1.49482633 1.4212432  2.00168234\n",
      " 1.42425664 1.41577844 1.42199422 1.42454643 1.41904065 2.00209942\n",
      " 1.41405367 1.4173457  1.40651493 1.41338487 1.4178248  1.41181846\n",
      " 1.99688176 1.41422739 1.41422208 1.41424648 1.41426314 1.41422666\n",
      " 1.41423515 1.41127374 2.00011117 1.4172417  1.41224732 1.41664019\n",
      " 1.41495574 1.41692972 1.40981094 1.41380508 1.41790723 1.99333908\n",
      " 1.41425251 1.41422645 1.41427761 1.41425015 1.41425847 1.41423089\n",
      " 1.40946807 1.4144117  1.41963514 2.00066379 1.41509358 1.41589984\n",
      " 1.41184475 1.4137794  1.4182995  1.41301052 1.4155101  1.40898925\n",
      " 1.41065678 1.40866253 1.96516289 1.40758648 1.41341145 1.40643892\n",
      " 1.40745116 1.41589705 1.41531326 1.41872938 1.42032544 1.42107896\n",
      " 1.4234058  1.41310477 2.01654819 1.41421867 1.41422327 1.41435746\n",
      " 1.41429777 1.41427485 1.41423828 1.4014717  1.41437391 1.44684875\n",
      " 1.41535424 1.36743397 1.42681723 2.00077916 1.41422103 1.41422766\n",
      " 1.41421557 1.41421762 1.41421575 1.41422014 1.41680264 1.41446113\n",
      " 1.41931832 1.41679503 1.40727864 1.41902882 1.41488974 2.00202514\n",
      " 1.4150078  1.40715024 1.41798026 1.41548276 1.41692701 1.41495534\n",
      " 1.42125073 1.41327209 1.39186936 1.42217961 1.39800497 1.4389177\n",
      " 1.42994058 1.41813626 1.98051731 1.40616408 1.40863115 1.41871372\n",
      " 1.41537724 1.41735681 1.41382252 1.41374664 1.41208836 1.417837\n",
      " 1.41599425 1.41166582 1.44446041 1.40287557 1.41895408 1.43503579\n",
      " 2.03788536 1.41425088 1.41424382 1.41422384 1.41422687 1.41422502\n",
      " 1.41422388 1.41044093 1.4143329  1.41777566 1.41589016 1.42109005\n",
      " 1.44129375 1.41458701 1.41886715 1.44291886 1.46931823 2.02619275\n",
      " 1.41433975 1.41430146 1.41485726 1.41552146 1.41523682 1.41576308\n",
      " 1.4132447  1.41423129 1.41252886 1.41459123 1.40932219 1.42290427\n",
      " 1.41425862 1.41448323 1.41350079 1.42208909 1.41434244 1.98707673\n",
      " 1.41393064 1.41166539 1.40066022 1.43187626 1.42560222 1.44875267\n",
      " 1.41704596 1.41365343 1.42854148 1.42492257 1.40838599 1.42144137\n",
      " 1.41512689 1.41517151 1.4213255  1.41851826 1.41729712 1.34134417\n",
      " 1.97794932 1.41440103 1.41457761 1.41637212 1.4154503  1.41532901\n",
      " 1.41464516 1.41535673 1.41425314 1.41368304 1.41442001 1.40940116\n",
      " 1.42160447 1.41425304 1.41455919 1.41800559 1.42297219 1.41436334\n",
      " 1.41580652 1.44745025 2.051605   1.41080344 1.40763269 1.36491559\n",
      " 1.37699913 1.3798254  1.3892488  1.4091237  1.4131884  1.40324897\n",
      " 1.40102454 1.40472682 1.41174631 1.41204577 1.3943561  1.40947457\n",
      " 1.41294124 1.40774158 1.46801374 1.49004128 1.50343992 2.00933918]\n"
     ]
    }
   ],
   "source": [
    "norm = np.zeros(nfreqs)\n",
    "for imode in range(nfreqs):\n",
    "    norm[imode] = 0.0\n",
    "    #calculate norm\n",
    "    for j, atom in enumerate(molecule):\n",
    "        for xyz in range(3):\n",
    "            norm[imode] +=  modes[imode,j,xyz]**2*atom\n",
    "    norm[imode] = math.sqrt(norm[imode])\n",
    "    #print(norm[imode])\n",
    "print(norm)"
   ]
  },
  {
   "cell_type": "code",
   "execution_count": 33,
   "metadata": {},
   "outputs": [],
   "source": [
    "for imode in range(nfreqs):\n",
    "    for j, atom in enumerate(molecule):\n",
    "        for xyz in range(3):\n",
    "            modes[imode,j,xyz] /= norm[imode]/math.sqrt(atom)"
   ]
  },
  {
   "cell_type": "code",
   "execution_count": 34,
   "metadata": {},
   "outputs": [],
   "source": [
    "results = np.transpose(modes.reshape(nfreqs,27))"
   ]
  },
  {
   "cell_type": "code",
   "execution_count": 35,
   "metadata": {},
   "outputs": [
    {
     "data": {
      "text/plain": [
       "array([[ 1.00000000e+00, -9.06917756e-03, -7.95223694e-02, ...,\n",
       "         8.82070222e-08,  4.11298470e-07,  7.94948014e-08],\n",
       "       [-9.06917756e-03,  1.00000000e+00,  5.23273298e-04, ...,\n",
       "         4.36357496e-08, -3.27727787e-08, -1.87797477e-08],\n",
       "       [-7.95223694e-02,  5.23273298e-04,  1.00000000e+00, ...,\n",
       "        -8.02062505e-07, -9.44036570e-07,  6.07670707e-07],\n",
       "       ...,\n",
       "       [ 8.82070222e-08,  4.36357496e-08, -8.02062505e-07, ...,\n",
       "         1.00000000e+00,  4.58205404e-01,  5.25503739e-01],\n",
       "       [ 4.11298470e-07, -3.27727787e-08, -9.44036570e-07, ...,\n",
       "         4.58205404e-01,  1.00000000e+00,  1.10136150e-01],\n",
       "       [ 7.94948014e-08, -1.87797477e-08,  6.07670707e-07, ...,\n",
       "         5.25503739e-01,  1.10136150e-01,  1.00000000e+00]])"
      ]
     },
     "execution_count": 35,
     "metadata": {},
     "output_type": "execute_result"
    }
   ],
   "source": [
    "np.dot(results.T,results)"
   ]
  },
  {
   "cell_type": "code",
   "execution_count": 36,
   "metadata": {},
   "outputs": [
    {
     "name": "stdout",
     "output_type": "stream",
     "text": [
      "              0             1             2             3             4    \\\n",
      "0    1.000000e+00 -9.069178e-03 -7.952237e-02  5.365216e-04 -2.096963e-02   \n",
      "1   -9.069178e-03  1.000000e+00  5.232733e-04  7.175276e-01  5.130301e-01   \n",
      "2   -7.952237e-02  5.232733e-04  1.000000e+00  2.744779e-04  7.871836e-04   \n",
      "3    5.365216e-04  7.175276e-01  2.744779e-04  1.000000e+00  5.674840e-01   \n",
      "4   -2.096963e-02  5.130301e-01  7.871836e-04  5.674840e-01  1.000000e+00   \n",
      "..            ...           ...           ...           ...           ...   \n",
      "247 -6.812423e-06 -3.489932e-08  4.329269e-06  1.682741e-06 -2.048199e-06   \n",
      "248 -4.829832e-07 -3.824916e-08 -1.146609e-06 -1.461387e-07  1.730004e-07   \n",
      "249  8.820702e-08  4.363575e-08 -8.020625e-07 -3.614378e-07  8.502918e-08   \n",
      "250  4.112985e-07 -3.277278e-08 -9.440366e-07  2.774695e-07 -2.023434e-07   \n",
      "251  7.949480e-08 -1.877975e-08  6.076707e-07  5.212001e-07 -5.752012e-07   \n",
      "\n",
      "              5         6         7         8         9    ...       242  \\\n",
      "0   -7.110400e-02 -0.000435 -0.001045  0.000493  0.001013  ... -0.000007   \n",
      "1   -2.716434e-04 -0.000088  0.000857 -0.000300  0.000003  ... -0.000006   \n",
      "2   -9.600281e-01  0.000371 -0.001861 -0.000795 -0.002601  ...  0.000005   \n",
      "3   -1.737843e-04  0.000815  0.001386 -0.000019 -0.000252  ...  0.000049   \n",
      "4   -9.269047e-04 -0.004516 -0.001800 -0.002498  0.000330  ... -0.001264   \n",
      "..            ...       ...       ...       ...       ...  ...       ...   \n",
      "247 -2.423978e-05  0.065992 -0.099594  0.092989 -0.142696  ...  0.508822   \n",
      "248 -1.157038e-06  0.063283 -0.277577  0.088904 -0.088978  ...  0.487944   \n",
      "249  8.026868e-07  0.137260 -0.000003  0.133483 -0.000001  ...  0.492350   \n",
      "250  1.546747e-06  0.061793 -0.080702  0.086813 -0.074762  ...  0.476461   \n",
      "251 -2.822419e-07  0.070662  0.070571  0.103364  0.059940  ...  0.583454   \n",
      "\n",
      "              243           244           245       246           247  \\\n",
      "0   -4.732924e-06 -1.221471e-05  2.276827e-07  0.000005 -6.812423e-06   \n",
      "1   -3.478760e-08 -3.524191e-08  1.640238e-07  0.000004 -3.489932e-08   \n",
      "2    6.036268e-04  5.108845e-06 -1.096393e-06 -0.000004  4.329269e-06   \n",
      "3    1.083669e-06  5.344939e-06 -2.426700e-05 -0.000020  1.682741e-06   \n",
      "4   -1.208840e-06 -6.850115e-06  6.852793e-04  0.000493 -2.048199e-06   \n",
      "..            ...           ...           ...       ...           ...   \n",
      "247  5.003209e-01  5.048662e-01  5.062192e-01  0.508661  1.000000e+00   \n",
      "248  4.807952e-01  4.890555e-01  4.854478e-01  0.487789  4.834638e-01   \n",
      "249  4.878352e-01  4.940242e-01  4.931443e-01  0.492754  4.893267e-01   \n",
      "250  4.688094e-01  4.769958e-01  4.740233e-01  0.476310  4.830305e-01   \n",
      "251  5.781797e-01  5.840170e-01  5.802223e-01  0.583240  5.721426e-01   \n",
      "\n",
      "              248           249           250           251  \n",
      "0   -4.829832e-07  8.820702e-08  4.112985e-07  7.949480e-08  \n",
      "1   -3.824916e-08  4.363575e-08 -3.277278e-08 -1.877975e-08  \n",
      "2   -1.146609e-06 -8.020625e-07 -9.440366e-07  6.076707e-07  \n",
      "3   -1.461387e-07 -3.614378e-07  2.774695e-07  5.212001e-07  \n",
      "4    1.730004e-07  8.502918e-08 -2.023434e-07 -5.752012e-07  \n",
      "..            ...           ...           ...           ...  \n",
      "247  4.834638e-01  4.893267e-01  4.830305e-01  5.721426e-01  \n",
      "248  1.000000e+00  4.692611e-01  4.738280e-01  5.220323e-01  \n",
      "249  4.692611e-01  1.000000e+00  4.582054e-01  5.255037e-01  \n",
      "250  4.738280e-01  4.582054e-01  1.000000e+00  1.101361e-01  \n",
      "251  5.220323e-01  5.255037e-01  1.101361e-01  1.000000e+00  \n",
      "\n",
      "[252 rows x 252 columns]\n"
     ]
    }
   ],
   "source": [
    "import pandas\n",
    "from pandas import DataFrame\n",
    "print(DataFrame(np.dot(results.T,results)))"
   ]
  },
  {
   "cell_type": "code",
   "execution_count": null,
   "metadata": {},
   "outputs": [],
   "source": []
  },
  {
   "cell_type": "code",
   "execution_count": null,
   "metadata": {},
   "outputs": [],
   "source": []
  }
 ],
 "metadata": {
  "kernelspec": {
   "display_name": "Python 3",
   "language": "python",
   "name": "python3"
  },
  "language_info": {
   "codemirror_mode": {
    "name": "ipython",
    "version": 3
   },
   "file_extension": ".py",
   "mimetype": "text/x-python",
   "name": "python",
   "nbconvert_exporter": "python",
   "pygments_lexer": "ipython3",
   "version": "3.7.6"
  }
 },
 "nbformat": 4,
 "nbformat_minor": 4
}
